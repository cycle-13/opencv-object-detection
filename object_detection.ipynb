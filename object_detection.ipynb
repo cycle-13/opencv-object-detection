{
 "cells": [
  {
   "cell_type": "markdown",
   "metadata": {},
   "source": [
    "## Quaxis Corporation for Research & Innovation 2020\n",
    "### Written by: JP Aldama\n",
    "#### MIT License, feel free to do whatever you want with this code."
   ]
  },
  {
   "cell_type": "markdown",
   "metadata": {},
   "source": [
    "### Goal: Object detection using opencv-python and numpy.\n",
    "***Requirements: opencv-python, numpy. It is highly recommended to install Anaconda for python 3.x. Using cv2 we will detect objects. For best results use still video (no camera movement).***"
   ]
  },
  {
   "cell_type": "markdown",
   "metadata": {},
   "source": [
    "#### Step 1: Import required libraries. Install opencv-python and numpy.\n",
    "***pip install opencv-python numpy***"
   ]
  },
  {
   "cell_type": "code",
   "execution_count": 1,
   "metadata": {},
   "outputs": [],
   "source": [
    "import cv2\n",
    "import numpy as np"
   ]
  },
  {
   "cell_type": "markdown",
   "metadata": {},
   "source": [
    "#### Step 2: Path to video source and invoke VideoCapture using source video."
   ]
  },
  {
   "cell_type": "code",
   "execution_count": 2,
   "metadata": {},
   "outputs": [],
   "source": [
    "SOURCE = 'data/qxdatasets/test_videos/walk_australia_372020.mp4'\n",
    "capture = cv2.VideoCapture(SOURCE)"
   ]
  },
  {
   "cell_type": "markdown",
   "metadata": {},
   "source": [
    "#### Step 3: Read first and second frame."
   ]
  },
  {
   "cell_type": "code",
   "execution_count": 3,
   "metadata": {},
   "outputs": [],
   "source": [
    "ret, frame1 = capture.read()\n",
    "ret, frame2 = capture.read()"
   ]
  },
  {
   "cell_type": "markdown",
   "metadata": {},
   "source": [
    "#### Step 4: The main loop\n",
    "***4a: Calculate the absolute difference between frame1 and frame2. \n",
    "4b: Convert frames to grayscale. \n",
    "4c: Apply Gaussian blur to the grayscale frames.\n",
    "4d: Set a threshold.\n",
    "4e: Apply dilation, find contours.\n",
    "4f: For each contour found in frames apply bounding rectangles to each contour found in total contours.\n",
    "4g: If movement is detected, display text on screen. If no movement is detected remove the text\n",
    "4h: Show the video \n",
    "4i: If 'q' is pressed, terminate the main loop and exit program.***"
   ]
  },
  {
   "cell_type": "code",
   "execution_count": 4,
   "metadata": {},
   "outputs": [],
   "source": [
    "# KNOWN BUG: Program freezes if you try to exit the program. \n",
    "# Do not worry, this only applies if you are using Jupyter Notebook. \n",
    "# Just code in your IDE and everything will be fine."
   ]
  },
  {
   "cell_type": "code",
   "execution_count": 5,
   "metadata": {},
   "outputs": [],
   "source": [
    "while capture.isOpened():\n",
    "    difference = cv2.absdiff(frame1, frame2)\n",
    "    grayscale = cv2.cvtColor(difference, cv2.COLOR_BGR2GRAY)\n",
    "    blur = cv2.GaussianBlur(grayscale, (5,5), 0)\n",
    "    _, threshold = cv2.threshold(blur, 30, 255, cv2.THRESH_BINARY)\n",
    "    dilated =  cv2.dilate(threshold, None, iterations=1)\n",
    "    contours, _ = cv2.findContours(dilated, cv2.RETR_TREE, cv2.CHAIN_APPROX_SIMPLE)\n",
    "    for contour in contours:\n",
    "        (x,y,w,h) = cv2.boundingRect(contour)\n",
    "        if cv2.contourArea(contour) < 1300:\n",
    "            continue\n",
    "        cv2.rectangle(frame1, (x,y), (x+w,y+h),(255,0,255), 2) \n",
    "        cv2.putText(frame1, 'STATUS: {}'.format('MOVEMENT!'),(10,50),cv2.FONT_HERSHEY_SIMPLEX,\n",
    "                   1,(0,255,0), 2)\n",
    "    cv2.imshow('video', frame1)\n",
    "    frame1 = frame2\n",
    "    ret, frame2 = capture.read()\n",
    "    key = cv2.waitKey(1) & 0xFF\n",
    "    if key == ord('q'):\n",
    "        break"
   ]
  },
  {
   "cell_type": "markdown",
   "metadata": {},
   "source": [
    "#### Step 5: Close the video and exit the program."
   ]
  },
  {
   "cell_type": "code",
   "execution_count": 6,
   "metadata": {},
   "outputs": [],
   "source": [
    "capture.release()\n",
    "cv2.destroyAllWindows()"
   ]
  },
  {
   "cell_type": "markdown",
   "metadata": {},
   "source": [
    "### Conclusion: \n",
    "***We have implemented very basic object detection using opencv-python. You can further adjust thresholds so you may 'tune' your threshold. Try extreme values so you can see the difference and learn how to enhance its functionality.***"
   ]
  },
  {
   "cell_type": "code",
   "execution_count": null,
   "metadata": {},
   "outputs": [],
   "source": []
  },
  {
   "cell_type": "code",
   "execution_count": null,
   "metadata": {},
   "outputs": [],
   "source": []
  }
 ],
 "metadata": {
  "kernelspec": {
   "display_name": "Python 3",
   "language": "python",
   "name": "python3"
  },
  "language_info": {
   "codemirror_mode": {
    "name": "ipython",
    "version": 3
   },
   "file_extension": ".py",
   "mimetype": "text/x-python",
   "name": "python",
   "nbconvert_exporter": "python",
   "pygments_lexer": "ipython3",
   "version": "3.7.4"
  }
 },
 "nbformat": 4,
 "nbformat_minor": 4
}
